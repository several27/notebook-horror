{
 "cells": [
  {
   "cell_type": "code",
   "execution_count": 1,
   "id": "9f08a5b8",
   "metadata": {},
   "outputs": [
    {
     "data": {
      "text/plain": [
       "\u001b[32mimport \u001b[39m\u001b[36m$ivy.$                                  \u001b[39m"
      ]
     },
     "execution_count": 1,
     "metadata": {},
     "output_type": "execute_result"
    }
   ],
   "source": [
    "import $ivy.`org.apache.spark::spark-sql:2.4.0`"
   ]
  },
  {
   "cell_type": "code",
   "execution_count": 5,
   "id": "77d0794b",
   "metadata": {},
   "outputs": [
    {
     "data": {
      "text/plain": [
       "\u001b[32mimport \u001b[39m\u001b[36morg.apache.log4j.{Level, Logger}\n",
       "\u001b[39m\n",
       "\u001b[32mimport \u001b[39m\u001b[36morg.apache.spark.sql.functions._\u001b[39m"
      ]
     },
     "execution_count": 5,
     "metadata": {},
     "output_type": "execute_result"
    }
   ],
   "source": [
    "import org.apache.log4j.{Level, Logger}\n",
    "import org.apache.spark.sql.functions._"
   ]
  },
  {
   "cell_type": "code",
   "execution_count": 6,
   "id": "5934b494",
   "metadata": {},
   "outputs": [],
   "source": [
    "Logger.getLogger(\"org\").setLevel(Level.OFF)"
   ]
  },
  {
   "cell_type": "code",
   "execution_count": 7,
   "id": "03ae3732",
   "metadata": {},
   "outputs": [
    {
     "name": "stdout",
     "output_type": "stream",
     "text": [
      "Getting spark JARs\n",
      "Creating SparkSession\n"
     ]
    },
    {
     "data": {
      "text/html": [
       "<a target=\"_blank\" href=\"http://172.16.100.40:4041\">Spark UI</a>"
      ]
     },
     "metadata": {},
     "output_type": "display_data"
    },
    {
     "data": {
      "text/plain": [
       "\u001b[32mimport \u001b[39m\u001b[36morg.apache.spark.sql._\n",
       "\n",
       "\u001b[39m\n",
       "\u001b[36mspark\u001b[39m: \u001b[32mSparkSession\u001b[39m = org.apache.spark.sql.SparkSession@588d88f4"
      ]
     },
     "execution_count": 7,
     "metadata": {},
     "output_type": "execute_result"
    }
   ],
   "source": [
    "import org.apache.spark.sql._\n",
    "\n",
    "val spark = NotebookSparkSession.builder()\n",
    "    .master(\"local[*]\")\n",
    "    .getOrCreate()"
   ]
  },
  {
   "cell_type": "code",
   "execution_count": 8,
   "id": "d312746f",
   "metadata": {},
   "outputs": [
    {
     "data": {
      "text/html": [
       "<script>\n",
       "var comm = Jupyter.notebook.kernel.comm_manager.new_comm('cancel-stage-2a507f04-df54-42e6-85d7-9c9ecd7a55ac', {});\n",
       "\n",
       "function cancelStage(stageId) {\n",
       "  console.log('Cancelling stage ' + stageId);\n",
       "  comm.send({ 'stageId': stageId });\n",
       "}\n",
       "</script>\n",
       "          "
      ]
     },
     "metadata": {},
     "output_type": "display_data"
    },
    {
     "data": {
      "text/html": [
       "<div>\n",
       "  <span style=\"float: left;\">show at cmd7.sc:2</span>\n",
       "</div>\n"
      ]
     },
     "metadata": {},
     "output_type": "display_data"
    },
    {
     "data": {
      "text/html": [
       "<div class=\"progress\">\n",
       "  <div class=\"progress-bar\" role=\"progressbar\" style=\"background-color: blue; width: 100%; word-wrap: normal; white-space: nowrap; text-align: center; color: white\" aria-valuenow=\"100\" aria-valuemin=\"0\" aria-valuemax=\"100\">\n",
       "    1 / 1\n",
       "  </div>\n",
       "  <div class=\"progress-bar\" role=\"progressbar\" style=\"background-color: red; width: 0%\" aria-valuenow=\"0\" aria-valuemin=\"0\" aria-valuemax=\"100\"></div>\n",
       "</div>\n"
      ]
     },
     "metadata": {},
     "output_type": "display_data"
    },
    {
     "data": {
      "text/html": [
       "<script>\n",
       "var comm = Jupyter.notebook.kernel.comm_manager.new_comm('cancel-stage-7477c07c-091f-4dc4-83b4-5fe6d04076a8', {});\n",
       "\n",
       "function cancelStage(stageId) {\n",
       "  console.log('Cancelling stage ' + stageId);\n",
       "  comm.send({ 'stageId': stageId });\n",
       "}\n",
       "</script>\n",
       "          "
      ]
     },
     "metadata": {},
     "output_type": "display_data"
    },
    {
     "data": {
      "text/html": [
       "<div>\n",
       "  <span style=\"float: left;\">show at cmd7.sc:2</span>\n",
       "</div>\n"
      ]
     },
     "metadata": {},
     "output_type": "display_data"
    },
    {
     "data": {
      "text/html": [
       "<div class=\"progress\">\n",
       "  <div class=\"progress-bar\" role=\"progressbar\" style=\"background-color: blue; width: 100%; word-wrap: normal; white-space: nowrap; text-align: center; color: white\" aria-valuenow=\"100\" aria-valuemin=\"0\" aria-valuemax=\"100\">\n",
       "    1 / 1\n",
       "  </div>\n",
       "  <div class=\"progress-bar\" role=\"progressbar\" style=\"background-color: red; width: 0%\" aria-valuenow=\"0\" aria-valuemin=\"0\" aria-valuemax=\"100\"></div>\n",
       "</div>\n"
      ]
     },
     "metadata": {},
     "output_type": "display_data"
    },
    {
     "data": {
      "text/html": [
       "<div>\n",
       "  <span style=\"float: left;\">show at cmd7.sc:2</span>\n",
       "</div>\n"
      ]
     },
     "metadata": {},
     "output_type": "display_data"
    },
    {
     "data": {
      "text/html": [
       "<div class=\"progress\">\n",
       "  <div class=\"progress-bar\" role=\"progressbar\" style=\"background-color: blue; width: 100%; word-wrap: normal; white-space: nowrap; text-align: center; color: white\" aria-valuenow=\"100\" aria-valuemin=\"0\" aria-valuemax=\"100\">\n",
       "    4 / 4\n",
       "  </div>\n",
       "  <div class=\"progress-bar\" role=\"progressbar\" style=\"background-color: red; width: 0%\" aria-valuenow=\"0\" aria-valuemin=\"0\" aria-valuemax=\"100\"></div>\n",
       "</div>\n"
      ]
     },
     "metadata": {},
     "output_type": "display_data"
    },
    {
     "data": {
      "text/html": [
       "<div>\n",
       "  <span style=\"float: left;\">show at cmd7.sc:2</span>\n",
       "</div>\n"
      ]
     },
     "metadata": {},
     "output_type": "display_data"
    },
    {
     "data": {
      "text/html": [
       "<div class=\"progress\">\n",
       "  <div class=\"progress-bar\" role=\"progressbar\" style=\"background-color: blue; width: 100%; word-wrap: normal; white-space: nowrap; text-align: center; color: white\" aria-valuenow=\"100\" aria-valuemin=\"0\" aria-valuemax=\"100\">\n",
       "    4 / 4\n",
       "  </div>\n",
       "  <div class=\"progress-bar\" role=\"progressbar\" style=\"background-color: red; width: 0%\" aria-valuenow=\"0\" aria-valuemin=\"0\" aria-valuemax=\"100\"></div>\n",
       "</div>\n"
      ]
     },
     "metadata": {},
     "output_type": "display_data"
    },
    {
     "data": {
      "text/html": [
       "<div>\n",
       "  <span style=\"float: left;\">show at cmd7.sc:2</span>\n",
       "</div>\n"
      ]
     },
     "metadata": {},
     "output_type": "display_data"
    },
    {
     "data": {
      "text/html": [
       "<div class=\"progress\">\n",
       "  <div class=\"progress-bar\" role=\"progressbar\" style=\"background-color: blue; width: 100%; word-wrap: normal; white-space: nowrap; text-align: center; color: white\" aria-valuenow=\"100\" aria-valuemin=\"0\" aria-valuemax=\"100\">\n",
       "    5 / 5\n",
       "  </div>\n",
       "  <div class=\"progress-bar\" role=\"progressbar\" style=\"background-color: red; width: 0%\" aria-valuenow=\"0\" aria-valuemin=\"0\" aria-valuemax=\"100\"></div>\n",
       "</div>\n"
      ]
     },
     "metadata": {},
     "output_type": "display_data"
    },
    {
     "data": {
      "text/html": [
       "<div>\n",
       "  <span style=\"float: left;\">show at cmd7.sc:2</span>\n",
       "</div>\n"
      ]
     },
     "metadata": {},
     "output_type": "display_data"
    },
    {
     "data": {
      "text/html": [
       "<div class=\"progress\">\n",
       "  <div class=\"progress-bar\" role=\"progressbar\" style=\"background-color: blue; width: 100%; word-wrap: normal; white-space: nowrap; text-align: center; color: white\" aria-valuenow=\"100\" aria-valuemin=\"0\" aria-valuemax=\"100\">\n",
       "    5 / 5\n",
       "  </div>\n",
       "  <div class=\"progress-bar\" role=\"progressbar\" style=\"background-color: red; width: 0%\" aria-valuenow=\"0\" aria-valuemin=\"0\" aria-valuemax=\"100\"></div>\n",
       "</div>\n"
      ]
     },
     "metadata": {},
     "output_type": "display_data"
    },
    {
     "name": "stdout",
     "output_type": "stream",
     "text": [
      "+--------------------+\n",
      "|           new_value|\n",
      "+--------------------+\n",
      "|0.172800630199195...|\n",
      "|0.812180215570674...|\n",
      "|0.313708969037536...|\n",
      "|0.734368771669239...|\n",
      "|0.654544595549106...|\n",
      "|0.069716661750657...|\n",
      "|0.476256264628630...|\n",
      "|0.405286563053880...|\n",
      "|0.005639830943558...|\n",
      "|0.657524355340787...|\n",
      "+--------------------+\n",
      "\n"
     ]
    },
    {
     "data": {
      "text/plain": [
       "\u001b[36mdf\u001b[39m: \u001b[32mDataFrame\u001b[39m = [new_value: string]"
      ]
     },
     "execution_count": 8,
     "metadata": {},
     "output_type": "execute_result"
    }
   ],
   "source": [
    "val df = spark.range(10).select(concat(rand(), rand()).as(\"new_value\"))\n",
    "df.show()"
   ]
  },
  {
   "cell_type": "code",
   "execution_count": 9,
   "id": "852c175b",
   "metadata": {},
   "outputs": [],
   "source": [
    "interp.repositories() ++= Seq(\n",
    "  coursierapi.MavenRepository.of(\"https://dl.bintray.com/cibotech/public\")\n",
    ")"
   ]
  },
  {
   "cell_type": "code",
   "execution_count": 9,
   "id": "014b697c",
   "metadata": {},
   "outputs": [
    {
     "name": "stderr",
     "output_type": "stream",
     "text": [
      "Downloading https://repo1.maven.org/maven2/com/cibo/evilplot-repl_2.12/0.7.0/evilplot-repl_2.12-0.7.0.pom\n",
      "Downloaded https://repo1.maven.org/maven2/com/cibo/evilplot-repl_2.12/0.7.0/evilplot-repl_2.12-0.7.0.pom\n",
      "Downloading https://repo1.maven.org/maven2/com/cibo/evilplot-repl_2.12/0.7.0/evilplot-repl_2.12-0.7.0.pom.sha1\n",
      "Downloaded https://repo1.maven.org/maven2/com/cibo/evilplot-repl_2.12/0.7.0/evilplot-repl_2.12-0.7.0.pom.sha1\n",
      "Downloading https://dl.bintray.com/cibotech/public/com/cibo/evilplot-repl_2.12/0.7.0/evilplot-repl_2.12-0.7.0.pom\n",
      "Downloaded https://dl.bintray.com/cibotech/public/com/cibo/evilplot-repl_2.12/0.7.0/evilplot-repl_2.12-0.7.0.pom\n",
      "Downloading https://dl.bintray.com/cibotech/public/com/cibo/evilplot-repl_2.12/0.7.0/evilplot-repl_2.12-0.7.0.pom.sha1\n",
      "Downloaded https://dl.bintray.com/cibotech/public/com/cibo/evilplot-repl_2.12/0.7.0/evilplot-repl_2.12-0.7.0.pom.sha1\n",
      "Failed to resolve ivy dependencies:Error downloading com.cibo:evilplot-repl_2.12:0.7.0\n",
      "  not found: /Users/maciej/.ivy2/local/com.cibo/evilplot-repl_2.12/0.7.0/ivys/ivy.xml\n",
      "  not found: https://repo1.maven.org/maven2/com/cibo/evilplot-repl_2.12/0.7.0/evilplot-repl_2.12-0.7.0.pom\n",
      "  download error: Caught java.io.IOException: Server returned HTTP response code: 502 for URL: https://dl.bintray.com/cibotech/public/com/cibo/evilplot-repl_2.12/0.7.0/evilplot-repl_2.12-0.7.0.pom (Server returned HTTP response code: 502 for URL: https://dl.bintray.com/cibotech/public/com/cibo/evilplot-repl_2.12/0.7.0/evilplot-repl_2.12-0.7.0.pom) while downloading https://dl.bintray.com/cibotech/public/com/cibo/evilplot-repl_2.12/0.7.0/evilplot-repl_2.12-0.7.0.pom"
     ]
    },
    {
     "ename": "",
     "evalue": "",
     "output_type": "error",
     "traceback": [
      "Failed to resolve ivy dependencies:Error downloading com.cibo:evilplot-repl_2.12:0.7.0\n  not found: /Users/maciej/.ivy2/local/com.cibo/evilplot-repl_2.12/0.7.0/ivys/ivy.xml\n  not found: https://repo1.maven.org/maven2/com/cibo/evilplot-repl_2.12/0.7.0/evilplot-repl_2.12-0.7.0.pom\n  download error: Caught java.io.IOException: Server returned HTTP response code: 502 for URL: https://dl.bintray.com/cibotech/public/com/cibo/evilplot-repl_2.12/0.7.0/evilplot-repl_2.12-0.7.0.pom (Server returned HTTP response code: 502 for URL: https://dl.bintray.com/cibotech/public/com/cibo/evilplot-repl_2.12/0.7.0/evilplot-repl_2.12-0.7.0.pom) while downloading https://dl.bintray.com/cibotech/public/com/cibo/evilplot-repl_2.12/0.7.0/evilplot-repl_2.12-0.7.0.pom"
     ]
    }
   ],
   "source": [
    "import $ivy.`com.cibo::evilplot-repl:0.7.0`\n",
    "def showPlot(plot: com.cibo.evilplot.geometry.Drawable) = Image.fromRenderedImage(plot.asBufferedImage, Image.PNG)"
   ]
  },
  {
   "cell_type": "code",
   "execution_count": 9,
   "id": "fe8ee61b",
   "metadata": {},
   "outputs": [
    {
     "name": "stderr",
     "output_type": "stream",
     "text": [
      "cmd9.sc:1: object cibo is not a member of package com\n",
      "import com.cibo.evilplot.plot._\n",
      "           ^cmd9.sc:2: object cibo is not a member of package com\n",
      "import com.cibo.evilplot.plot.aesthetics.DefaultTheme._\n",
      "           ^cmd9.sc:3: object cibo is not a member of package com\n",
      "import com.cibo.evilplot.numeric.Point\n",
      "           ^cmd9.sc:5: not found: value Point\n",
      "val data = Seq.tabulate(100) { i => Point(i.toDouble, scala.util.Random.nextDouble()) }\n",
      "                                    ^cmd9.sc:6: not found: value ScatterPlot\n",
      "val plot = ScatterPlot(data).xAxis().yAxis().frame().xLabel(\"x\").yLabel(\"y\").render()\n",
      "           ^cmd9.sc:8: not found: value showPlot\n",
      "val res9_5 = showPlot(plot)\n",
      "             ^Compilation Failed"
     ]
    },
    {
     "ename": "",
     "evalue": "",
     "output_type": "error",
     "traceback": [
      "Compilation Failed"
     ]
    }
   ],
   "source": [
    "import com.cibo.evilplot.plot._\n",
    "import com.cibo.evilplot.plot.aesthetics.DefaultTheme._\n",
    "import com.cibo.evilplot.numeric.Point\n",
    "\n",
    "val data = Seq.tabulate(100) { i => Point(i.toDouble, scala.util.Random.nextDouble()) }\n",
    "val plot = ScatterPlot(data).xAxis().yAxis().frame().xLabel(\"x\").yLabel(\"y\").render()\n",
    "\n",
    "showPlot(plot)"
   ]
  },
  {
   "cell_type": "code",
   "execution_count": 8,
   "id": "f9302e05",
   "metadata": {},
   "outputs": [
    {
     "name": "stderr",
     "output_type": "stream",
     "text": [
      "(console):1:1 expected end-of-input\n",
      "from spark_plot import mpl\n",
      "^"
     ]
    },
    {
     "ename": "",
     "evalue": "",
     "output_type": "error",
     "traceback": [
      "(console):1:1 expected end-of-input\nfrom spark_plot import mpl\n^"
     ]
    }
   ],
   "source": [
    "from spark_plot import mpl"
   ]
  },
  {
   "cell_type": "code",
   "execution_count": null,
   "id": "69b7ed0d",
   "metadata": {},
   "outputs": [],
   "source": []
  }
 ],
 "metadata": {
  "kernelspec": {
   "display_name": "Scala",
   "language": "scala",
   "name": "scala"
  },
  "language_info": {
   "codemirror_mode": "text/x-scala",
   "file_extension": ".scala",
   "mimetype": "text/x-scala",
   "name": "scala",
   "nbconvert_exporter": "script",
   "version": "2.12.11"
  }
 },
 "nbformat": 4,
 "nbformat_minor": 5
}
